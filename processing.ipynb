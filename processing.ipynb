{
 "cells": [
  {
   "cell_type": "code",
   "execution_count": 1,
   "metadata": {},
   "outputs": [],
   "source": [
    "import numpy as np\n",
    "import cv2 as cv\n",
    "import matplotlib.pyplot as plt\n",
    "import random\n",
    "import math"
   ]
  },
  {
   "cell_type": "code",
   "execution_count": 2,
   "metadata": {},
   "outputs": [],
   "source": [
    "def show_img(img):\n",
    "    plt.imshow(img, cmap='gray')\n",
    "    plt.axis('off')\n",
    "    plt.show()"
   ]
  },
  {
   "cell_type": "code",
   "execution_count": 4,
   "metadata": {},
   "outputs": [],
   "source": [
    "def circle_elem(radius):\n",
    "    return cv.getStructuringElement(cv.MORPH_ELLIPSE, (2 * radius + 1, 2 * radius + 1), (radius, radius))"
   ]
  },
  {
   "cell_type": "code",
   "execution_count": 7,
   "metadata": {},
   "outputs": [],
   "source": [
    "class Line:\n",
    "    def __init__(self, contour):\n",
    "        (cx, cy), (w, h), ang = cv.minAreaRect(contour)\n",
    "        if w >= h:\n",
    "            dx = (w / 2) * math.cos(ang * math.pi / 180)\n",
    "            dy = (w / 2) * math.sin(ang * math.pi / 180)\n",
    "        else:\n",
    "            dx = (h / 2) * math.cos((ang - 90) * math.pi / 180)\n",
    "            dy = (h / 2) * math.sin((ang - 90) * math.pi / 180)\n",
    "            \n",
    "        self.p1 = (int(cx + dx), int(cy + dy))\n",
    "        self.p2 = (int(cx - dx), int(cy - dy))\n",
    "        \n",
    "    def cv_draw(self, target, color, thickness):\n",
    "        cv.line(target, self.p1, self.p2, color, max(thickness, 1))"
   ]
  },
  {
   "cell_type": "code",
   "execution_count": 8,
   "metadata": {},
   "outputs": [],
   "source": [
    "class Ellipse:\n",
    "    def __init__(self, contour):\n",
    "        self.ellipse = cv.fitEllipse(contour)\n",
    "    \n",
    "    def cv_draw(self, target, color, thickness):\n",
    "        cv.ellipse(target, self.ellipse, color, thickness)"
   ]
  },
  {
   "cell_type": "code",
   "execution_count": 9,
   "metadata": {},
   "outputs": [],
   "source": [
    "class ContourTree:\n",
    "    def __init__(self, contour, children=None):\n",
    "        self.contour = contour\n",
    "        if children is not None and len(children) > 0:\n",
    "            self.children = children\n",
    "        else:\n",
    "            self.children = None\n",
    "            \n",
    "    def __len__(self):\n",
    "        return len(self.children) if self.children is not None else 0\n",
    "\n",
    "    def __repr__(self):\n",
    "        return f'<ContourTree children={self.children}>'"
   ]
  },
  {
   "cell_type": "code",
   "execution_count": 10,
   "metadata": {},
   "outputs": [],
   "source": [
    "def extract_subtree(contours, hier, idx):\n",
    "    children = []\n",
    "    child = hier[idx][2] # First child\n",
    "    while child >= 0:\n",
    "        children.append(child)\n",
    "        child = hier[child][0]\n",
    "    \n",
    "    child_trees = list(map(\n",
    "        lambda c: extract_subtree(contours, hier, c), children))\n",
    "    return ContourTree(contours[idx], child_trees)"
   ]
  },
  {
   "cell_type": "code",
   "execution_count": 11,
   "metadata": {},
   "outputs": [],
   "source": [
    "def make_contour_tree(contours, hier):\n",
    "    roots = []\n",
    "    for i in range(len(hier)):\n",
    "        if hier[i][3] < 0:\n",
    "            # Top-level contour\n",
    "            roots.append(extract_subtree(contours, hier, i))\n",
    "            \n",
    "    return roots"
   ]
  },
  {
   "cell_type": "code",
   "execution_count": 12,
   "metadata": {},
   "outputs": [],
   "source": [
    "def is_line(contour, cutoff=0.6):\n",
    "    a, b = cv.minAreaRect(contour)[1]\n",
    "    try:\n",
    "        ecc_mean = 2*a*b / (a*a + b*b)\n",
    "        return ecc_mean < cutoff\n",
    "    except:\n",
    "        return False"
   ]
  },
  {
   "cell_type": "code",
   "execution_count": 13,
   "metadata": {},
   "outputs": [],
   "source": [
    "def is_ellipse(contour, cutoff=0.5):\n",
    "    try:\n",
    "        (cx, cy), size, angle = cv.fitEllipse(contour)\n",
    "    except:\n",
    "        return False\n",
    "    \n",
    "    x_bb, y_bb, w_bb, h_bb = cv.boundingRect(contour)\n",
    "    mask = np.zeros((h_bb, w_bb))\n",
    "    thickness = int(max(w_bb / 60, 1))\n",
    "    \n",
    "    cv.drawContours(mask, [contour], 0, 255, thickness, offset=(-x_bb, -y_bb))\n",
    "    orig_weight = np.sum(mask)\n",
    "    \n",
    "    cv.ellipse(mask, ((cx - x_bb, cy - y_bb), size, angle), 0, thickness * 4)\n",
    "    masked_weight = np.sum(mask)\n",
    "    \n",
    "    return masked_weight / orig_weight < cutoff if orig_weight > 0 else False"
   ]
  },
  {
   "cell_type": "code",
   "execution_count": 15,
   "metadata": {},
   "outputs": [],
   "source": [
    "def collect_lowest_shapes(shapes_depths):\n",
    "    depth = 0\n",
    "    all_shapes = []\n",
    "    for shapes, d in shapes_depths:\n",
    "        if d > depth:\n",
    "            all_shapes = shapes.copy()\n",
    "            depth = d\n",
    "        elif d == depth:\n",
    "            all_shapes.extend(shapes)\n",
    "    return all_shapes, depth"
   ]
  },
  {
   "cell_type": "code",
   "execution_count": 16,
   "metadata": {},
   "outputs": [],
   "source": [
    "def subtree_lowest_shapes(tree):\n",
    "    \"\"\"Finds the lowest-depth shapes in a contour tree.\n",
    "    Return:\n",
    "        Tuple of a list of shapes and the depth of the shapes.\n",
    "        Note that the shapes may not come from the exact same subtree, but will\n",
    "        all be at the same depth.\n",
    "    \"\"\"\n",
    "    if len(tree) == 0:\n",
    "        # Bottom-level tree\n",
    "        if is_line(tree.contour):\n",
    "            return [Line(tree.contour)], 0\n",
    "        elif is_ellipse(tree.contour):\n",
    "            try:\n",
    "                return [Ellipse(tree.contour)], 0\n",
    "            except:\n",
    "                return [], -1\n",
    "        else:\n",
    "            print('Unknown shape')\n",
    "            return [], -1\n",
    "    else:\n",
    "        def lowest_inc_depth(tree):\n",
    "            s, d = subtree_lowest_shapes(tree)\n",
    "            return s, d+1\n",
    "        return collect_lowest_shapes(map(lowest_inc_depth, tree.children))"
   ]
  },
  {
   "cell_type": "code",
   "execution_count": 17,
   "metadata": {},
   "outputs": [],
   "source": [
    "def all_lowest_shapes(roots):\n",
    "    return collect_lowest_shapes(map(subtree_lowest_shapes, roots))[0]"
   ]
  },
  {
   "cell_type": "code",
   "execution_count": 18,
   "metadata": {},
   "outputs": [],
   "source": [
    "def mask_out_shape(image, shape, thickness):\n",
    "    mask = np.ones_like(image)\n",
    "    shape.cv_draw(mask, 0, thickness)\n",
    "    shape.cv_draw(mask, 0, -1) # TODO Does -thickness draw inside and outside?\n",
    "    \n",
    "    return image & mask"
   ]
  },
  {
   "cell_type": "code",
   "execution_count": 19,
   "metadata": {},
   "outputs": [],
   "source": [
    "def extract_and_mask_lowest(image, mask_thick=None):\n",
    "    if mask_thick is None:\n",
    "        mask_thick = image.shape[0] // 15\n",
    "        \n",
    "    contours, hier = cv.findContours(image, cv.RETR_TREE, cv.CHAIN_APPROX_NONE)\n",
    "    if contours is None or hier is None:\n",
    "        return [], image\n",
    "    \n",
    "    contour_roots = make_contour_tree(contours, hier[0])\n",
    "    shapes = all_lowest_shapes(contour_roots)\n",
    "    \n",
    "    mask = np.ones_like(image)\n",
    "    for s in shapes:\n",
    "        s.cv_draw(mask, 0, mask_thick)\n",
    "        s.cv_draw(mask, 0, -1)\n",
    "        \n",
    "    masked = image & mask\n",
    "    \n",
    "    return shapes, masked"
   ]
  },
  {
   "cell_type": "code",
   "execution_count": 20,
   "metadata": {},
   "outputs": [],
   "source": [
    "def draw_shapes(img_shape, shapes):\n",
    "    thickness = img_shape[0] // 60\n",
    "    target = np.zeros(img_shape)\n",
    "    for s in shapes:\n",
    "        s.cv_draw(target, 255, thickness)\n",
    "        \n",
    "    show_img(target)"
   ]
  },
  {
   "cell_type": "code",
   "execution_count": 21,
   "metadata": {},
   "outputs": [],
   "source": [
    "def extract_recursive(image, mask_thick=None):\n",
    "    all_shapes = []\n",
    "    while True:\n",
    "        shapes, new_image = extract_and_mask_lowest(image, mask_thick)\n",
    "        image = new_image\n",
    "        if len(shapes) > 0:\n",
    "            all_shapes.extend(shapes)\n",
    "        else:\n",
    "            break\n",
    "            \n",
    "    return all_shapes"
   ]
  },
  {
   "cell_type": "markdown",
   "metadata": {},
   "source": [
    "## Actually do stuff"
   ]
  },
  {
   "cell_type": "code",
   "execution_count": null,
   "metadata": {},
   "outputs": [],
   "source": [
    "FILE_NAME = 'images/computer_drawn_simple.png'"
   ]
  },
  {
   "cell_type": "code",
   "execution_count": 47,
   "metadata": {},
   "outputs": [],
   "source": [
    "orig_image = cv.imread(FILE_NAME, cv.IMREAD_GRAYSCALE)"
   ]
  },
  {
   "cell_type": "code",
   "execution_count": 48,
   "metadata": {},
   "outputs": [
    {
     "ename": "TypeError",
     "evalue": "Expected Ptr<cv::UMat> for argument '%s'",
     "output_type": "error",
     "traceback": [
      "\u001b[0;31m---------------------------------------------------------------------------\u001b[0m",
      "\u001b[0;31mTypeError\u001b[0m                                 Traceback (most recent call last)",
      "\u001b[0;32m<ipython-input-48-a73c5dcaa6b9>\u001b[0m in \u001b[0;36m<module>\u001b[0;34m\u001b[0m\n\u001b[1;32m      1\u001b[0m \u001b[0mprocessed\u001b[0m \u001b[0;34m=\u001b[0m \u001b[0mnp\u001b[0m\u001b[0;34m.\u001b[0m\u001b[0mcopy\u001b[0m\u001b[0;34m(\u001b[0m\u001b[0morig_image\u001b[0m\u001b[0;34m)\u001b[0m\u001b[0;34m\u001b[0m\u001b[0;34m\u001b[0m\u001b[0m\n\u001b[0;32m----> 2\u001b[0;31m \u001b[0mcv\u001b[0m\u001b[0;34m.\u001b[0m\u001b[0mthreshold\u001b[0m\u001b[0;34m(\u001b[0m\u001b[0mprocessed\u001b[0m\u001b[0;34m,\u001b[0m \u001b[0;36m127\u001b[0m\u001b[0;34m,\u001b[0m \u001b[0;36m255\u001b[0m\u001b[0;34m,\u001b[0m \u001b[0mcv\u001b[0m\u001b[0;34m.\u001b[0m\u001b[0mTHRESH_BINARY_INV\u001b[0m\u001b[0;34m,\u001b[0m \u001b[0mprocessed\u001b[0m\u001b[0;34m)\u001b[0m\u001b[0;34m\u001b[0m\u001b[0;34m\u001b[0m\u001b[0m\n\u001b[0m\u001b[1;32m      3\u001b[0m \u001b[0mdial_size\u001b[0m \u001b[0;34m=\u001b[0m \u001b[0mprocessed\u001b[0m\u001b[0;34m.\u001b[0m\u001b[0mshape\u001b[0m\u001b[0;34m[\u001b[0m\u001b[0;36m0\u001b[0m\u001b[0;34m]\u001b[0m \u001b[0;34m//\u001b[0m \u001b[0;36m120\u001b[0m\u001b[0;34m\u001b[0m\u001b[0;34m\u001b[0m\u001b[0m\n\u001b[1;32m      4\u001b[0m \u001b[0mcv\u001b[0m\u001b[0;34m.\u001b[0m\u001b[0mdilate\u001b[0m\u001b[0;34m(\u001b[0m\u001b[0mprocessed\u001b[0m\u001b[0;34m,\u001b[0m \u001b[0mcircle_elem\u001b[0m\u001b[0;34m(\u001b[0m\u001b[0mdial_size\u001b[0m\u001b[0;34m)\u001b[0m\u001b[0;34m,\u001b[0m \u001b[0mprocessed\u001b[0m\u001b[0;34m)\u001b[0m\u001b[0;34m\u001b[0m\u001b[0;34m\u001b[0m\u001b[0m\n\u001b[1;32m      5\u001b[0m \u001b[0;31m#processed = cv.Canny(processed, 50, 150)\u001b[0m\u001b[0;34m\u001b[0m\u001b[0;34m\u001b[0m\u001b[0;34m\u001b[0m\u001b[0m\n",
      "\u001b[0;31mTypeError\u001b[0m: Expected Ptr<cv::UMat> for argument '%s'"
     ]
    }
   ],
   "source": [
    "processed = np.copy(orig_image)\n",
    "cv.threshold(processed, 127, 255, cv.THRESH_BINARY_INV, processed)\n",
    "dial_size = processed.shape[0] // 120\n",
    "cv.dilate(processed, circle_elem(dial_size), processed)\n",
    "#processed = cv.Canny(processed, 50, 150)\n",
    "#cv.erode(processed, circle_elem(8), processed)"
   ]
  },
  {
   "cell_type": "code",
   "execution_count": null,
   "metadata": {},
   "outputs": [],
   "source": [
    "show_img(orig_image)\n",
    "show_img(processed)"
   ]
  },
  {
   "cell_type": "code",
   "execution_count": null,
   "metadata": {},
   "outputs": [],
   "source": [
    "shapes = extract_recursive(processed)"
   ]
  },
  {
   "cell_type": "code",
   "execution_count": null,
   "metadata": {},
   "outputs": [],
   "source": [
    "draw_shapes(processed.shape, shapes)"
   ]
  }
 ],
 "metadata": {
  "kernelspec": {
   "display_name": "drawagram",
   "language": "python",
   "name": "drawagram"
  },
  "language_info": {
   "codemirror_mode": {
    "name": "ipython",
    "version": 3
   },
   "file_extension": ".py",
   "mimetype": "text/x-python",
   "name": "python",
   "nbconvert_exporter": "python",
   "pygments_lexer": "ipython3",
   "version": "3.6.9"
  }
 },
 "nbformat": 4,
 "nbformat_minor": 4
}
